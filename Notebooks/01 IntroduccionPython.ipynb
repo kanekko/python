{
 "cells": [
  {
   "cell_type": "code",
   "execution_count": 1,
   "id": "4eb11a76",
   "metadata": {},
   "outputs": [
    {
     "name": "stdout",
     "output_type": "stream",
     "text": [
      "Hola\n"
     ]
    }
   ],
   "source": [
    "print(\"Hola\")"
   ]
  },
  {
   "cell_type": "code",
   "execution_count": 2,
   "id": "0a80edd6",
   "metadata": {},
   "outputs": [],
   "source": [
    "materia = \"Estructuras Discretas\"\n",
    "semestre = \"2023-1\""
   ]
  },
  {
   "cell_type": "code",
   "execution_count": 3,
   "id": "c47c6219",
   "metadata": {},
   "outputs": [
    {
     "name": "stdout",
     "output_type": "stream",
     "text": [
      "Bienvenido a la materia Estructuras Discretas del semestre 2023-1\n"
     ]
    }
   ],
   "source": [
    "print(\"Bienvenido a la materia\", materia, \"del semestre\", semestre)"
   ]
  },
  {
   "cell_type": "markdown",
   "id": "eacecb2c",
   "metadata": {},
   "source": [
    "Texto plano\n",
    "\n",
    "- Lista 1\n",
    "- Lista 2\n",
    "- Lista 3"
   ]
  },
  {
   "cell_type": "markdown",
   "id": "0c875937",
   "metadata": {},
   "source": [
    "# Estructuras Discretas\n",
    "## Semestre 2023-1\n",
    "### Grupo 7015"
   ]
  },
  {
   "cell_type": "markdown",
   "id": "3cc414f8",
   "metadata": {},
   "source": [
    "# Título\n",
    "\n",
    "Texto plano => Práctica 1\n",
    "\n",
    "Ruta de página web => https://www.fciencias.unam.mx/\n",
    "\n",
    "Nombre de archivos con extensión => <i>utils.py</i>\n",
    "\n",
    "Código con formato: \n",
    "\n",
    "```python\n",
    "from nombre_de_archivo import nombre_funcion\n",
    "```\n",
    "Nombre de función, variable o archivo => `nombre_de_función`, `variable` y `nombre_de_archivo` \n",
    "\n",
    "Fórmula => $\\frac{1}{2}$\n",
    "\n",
    "Fórmula centrada: $$¬(p \\rightarrow s)$$\n",
    "\n",
    "Las fórmulas deben ser escritas en LaTex.\n",
    "\n",
    "Listas:\n",
    "\n",
    "* Lista1\n",
    "* Lista2\n",
    "* Lista3\n",
    "\n",
    "También se puede utilizar. \n",
    "\n",
    "- Lista1\n",
    "- Lista2\n",
    "- Lista3\n",
    "\n",
    "Nota: Seleccionar la celda y presionar dos veces para ver el formato del texto."
   ]
  },
  {
   "cell_type": "markdown",
   "id": "39dda946",
   "metadata": {},
   "source": [
    "# Variables en Python"
   ]
  },
  {
   "cell_type": "code",
   "execution_count": 3,
   "id": "bbdcb0c0",
   "metadata": {},
   "outputs": [
    {
     "name": "stdout",
     "output_type": "stream",
     "text": [
      "12\n"
     ]
    }
   ],
   "source": [
    "# Guardamos en la variable producto el resultado de 2 * 6\n",
    "producto = 2 * 6\n",
    "\n",
    "# Imprimimos al resultado de 2 * 6 a través de la variable producto\n",
    "print(producto)"
   ]
  },
  {
   "cell_type": "code",
   "execution_count": 15,
   "id": "0621a9e5",
   "metadata": {},
   "outputs": [
    {
     "name": "stdout",
     "output_type": "stream",
     "text": [
      "Nombre\n"
     ]
    }
   ],
   "source": [
    "# Asignar a la variable var el valor 24\n",
    "var = 24\n",
    "\n",
    "# Asignar a la variable var el resultado de 678 - 345\n",
    "var = 678 - 345\n",
    "\n",
    "# Asignar a la variable var la cadena \"Nombre\"\n",
    "var = 'Nombre'\n",
    "print(var)"
   ]
  },
  {
   "cell_type": "code",
   "execution_count": 16,
   "id": "86e7cf4b",
   "metadata": {},
   "outputs": [
    {
     "ename": "NameError",
     "evalue": "name 'variable' is not defined",
     "output_type": "error",
     "traceback": [
      "\u001b[0;31m---------------------------------------------------------------------------\u001b[0m",
      "\u001b[0;31mNameError\u001b[0m                                 Traceback (most recent call last)",
      "Input \u001b[0;32mIn [16]\u001b[0m, in \u001b[0;36m<cell line: 1>\u001b[0;34m()\u001b[0m\n\u001b[0;32m----> 1\u001b[0m \u001b[38;5;28mprint\u001b[39m(\u001b[43mvariable\u001b[49m)\n",
      "\u001b[0;31mNameError\u001b[0m: name 'variable' is not defined"
     ]
    }
   ],
   "source": [
    "# Si intentamos usar una variable que no ha sido definida/inicializada previamente arrojará un error\n",
    "print(variable)"
   ]
  },
  {
   "cell_type": "code",
   "execution_count": 17,
   "id": "c23928cb",
   "metadata": {},
   "outputs": [
    {
     "name": "stdout",
     "output_type": "stream",
     "text": [
      "a = 13 b = 13 c = 13\n"
     ]
    }
   ],
   "source": [
    "# Asignar un valor a múltiples variables\n",
    "a = b = c = 13\n",
    "print(\"a =\", a, \"b =\", b, \"c =\", c)"
   ]
  },
  {
   "cell_type": "code",
   "execution_count": 20,
   "id": "e59b10f3",
   "metadata": {},
   "outputs": [
    {
     "name": "stdout",
     "output_type": "stream",
     "text": [
      "a = 13 b = 97 c = 1\n"
     ]
    }
   ],
   "source": [
    "# Asignar múltiples valores a múltiples variables\n",
    "a, b, c = 13, 97, 1\n",
    "print(\"a =\", a, \"b =\", b, \"c =\", c)"
   ]
  },
  {
   "cell_type": "markdown",
   "id": "be3562fb",
   "metadata": {},
   "source": [
    "# Tipos de datos en Python"
   ]
  },
  {
   "cell_type": "code",
   "execution_count": 8,
   "id": "55edd7d7",
   "metadata": {},
   "outputs": [],
   "source": [
    "# Booleanos (bool)\n",
    "varT = True\n",
    "varF = False\n",
    "\n",
    "# Números (int)\n",
    "numInt = 26\n",
    "\n",
    "# Números decimales (float)\n",
    "numFloat = 30.95\n",
    "\n",
    "# Número complejo (complex)\n",
    "numComplejo = 2.1 + 7.8j\n",
    "\n",
    "# Cadenas (String)\n",
    "cadena1 = \"Hola\"\n",
    "cadena2 = 'Hola'\n",
    "\n",
    "# Caracter (Character)\n",
    "caracterJ = 'j'\n",
    "\n",
    "# Listas (List)\n",
    "lista = [1, 2, 3, 4, 5]\n",
    "\n",
    "# Tuplas (Tuple)\n",
    "tupla = (2, 4, 6, 8, 10)\n",
    "\n",
    "# Diccionarios (Dict)\n",
    "diccionario = {'a': 1, 'b': 9, 'c': 9, 'd': 7}\n",
    "\n",
    "# set (set)\n",
    "conjunto = set([3, 5, 6, 3, 7, 5])"
   ]
  },
  {
   "cell_type": "code",
   "execution_count": 9,
   "id": "2d900971",
   "metadata": {},
   "outputs": [
    {
     "name": "stdout",
     "output_type": "stream",
     "text": [
      "La variable varT es de tipo: <class 'bool'>\n",
      "La variable numInt es de tipo: <class 'int'>\n",
      "La variable cadena es de tipo: <class 'str'>\n",
      "La variable lista es de tipo: <class 'list'>\n",
      "La variable conjunto es de tipo: <class 'set'>\n"
     ]
    }
   ],
   "source": [
    "# Para conocer el tipo de una variable utilizar la función type()\n",
    "\n",
    "print(\"La variable varT es de tipo:\", type(varT))\n",
    "print(\"La variable numInt es de tipo:\", type(numInt))\n",
    "print(\"La variable cadena es de tipo:\", type(cadena))\n",
    "print(\"La variable lista es de tipo:\", type(lista))\n",
    "print(\"La variable conjunto es de tipo:\", type(conjunto))"
   ]
  },
  {
   "cell_type": "code",
   "execution_count": 6,
   "id": "67fd6d76",
   "metadata": {},
   "outputs": [
    {
     "name": "stdout",
     "output_type": "stream",
     "text": [
      "Utilizando la función str():\n",
      "13\n",
      "True\n",
      "[1, 4, 6, 8, 9]\n",
      "\n",
      "Utilizando la función int():\n",
      "13\n",
      "34821\n",
      "2\n",
      "\n",
      "Utilizando la función int():\n",
      "2478.3\n",
      "142.0\n",
      "30.1295\n",
      "8.0\n"
     ]
    }
   ],
   "source": [
    "# Conversión de tipos\n",
    "# La función str(): Devuelve la representación en cadena de caracteres del tipo de dato que se pasa como parámetro.\n",
    "# Acepta cualquier tipo de dato.\n",
    "\n",
    "strInt = str(13)\n",
    "strBoolean = str(True)\n",
    "strLista = str([1, 4, 6, 8, 9])\n",
    "\n",
    "print(\"Utilizando la función str():\")\n",
    "print(strInt)\n",
    "print(strBoolean)\n",
    "print(strLista)\n",
    "\n",
    "# La función int(): Devuelve un int a partir de un número o secuencia de caracteres.\n",
    "# Sólo acepta números decimales, cadenas de números enteros y carácteres de números. \n",
    "\n",
    "intFloat = int(13.1095)\n",
    "intStr1 = int(\"34821\")\n",
    "IntCaracter = int('2')\n",
    "\n",
    "print(\"\")\n",
    "print(\"Utilizando la función int():\")\n",
    "print(intFloat)\n",
    "print(intStr1)\n",
    "print(IntCaracter)\n",
    "\n",
    "# La función float(): Devuelve un float a partir de un número o secuencia de caracteres.\n",
    "# Sólo acepta números enteros, cadenas de números y carácteres de números. \n",
    "\n",
    "floatInt = float(2478)\n",
    "floatStr1 = float(\"142\")\n",
    "floatStr2 = float(\"30.1295\")\n",
    "floatCaracter = float('8')\n",
    "\n",
    "print(\"\")\n",
    "print(\"Utilizando la función int():\")\n",
    "print(floatInt)\n",
    "print(floatStr1)\n",
    "print(floatStr2)\n",
    "print(floatCaracter)"
   ]
  },
  {
   "cell_type": "markdown",
   "id": "73e274e5",
   "metadata": {},
   "source": [
    "# Operador de concatenación de cadenas"
   ]
  },
  {
   "cell_type": "code",
   "execution_count": 7,
   "id": "ee658795",
   "metadata": {},
   "outputs": [
    {
     "name": "stdout",
     "output_type": "stream",
     "text": [
      "Hola Python\n"
     ]
    }
   ],
   "source": [
    "hola = \"Hola\"\n",
    "python = \"Python\"\n",
    "\n",
    "# Para concatenar dos cadenas se utiliza el operador + \n",
    "# Para agregar un espacio se debe agregar \" \" o ' '\n",
    "\n",
    "holaPython = hola + \" \" + python\n",
    "print(holaPython)"
   ]
  },
  {
   "cell_type": "markdown",
   "id": "3b18a459",
   "metadata": {},
   "source": [
    "# Operadores aritméticos en Python"
   ]
  },
  {
   "cell_type": "code",
   "execution_count": 11,
   "id": "91bd3314",
   "metadata": {},
   "outputs": [
    {
     "name": "stdout",
     "output_type": "stream",
     "text": [
      "64 + 4 = 68\n",
      "64 + 4 = 68\n",
      "64 - 4 = 60\n",
      "64 * 4 = 256\n",
      "64 / 4 = 16.0\n",
      "64 % 4 = 0\n",
      "64 ** 4 = 16777216\n",
      "64 // 4 = 16\n"
     ]
    }
   ],
   "source": [
    "numA = 64\n",
    "numB = 4\n",
    "\n",
    "# Suma +\n",
    "suma = numA + numB\n",
    "print(str(numA) + \" + \" + str(numB) + \" = \" + str(suma))\n",
    "\n",
    "# Resta -\n",
    "resta = numA - numB\n",
    "print(str(numA) + \" - \" + str(numB) + \" = \" + str(resta))\n",
    "\n",
    "# Multiplicación *\n",
    "mult = numA * numB\n",
    "print(str(numA) + \" * \" + str(numB) + \" = \" + str(mult))\n",
    "\n",
    "# División /\n",
    "div = numA / numB\n",
    "print(str(numA) + \" / \" + str(numB) + \" = \" + str(div))\n",
    "\n",
    "# Módulo %\n",
    "modulo = numA % numB\n",
    "print(str(numA) + \" % \" + str(numB) + \" = \" + str(modulo))\n",
    "\n",
    "# Exponente **\n",
    "exp = numA ** numB\n",
    "print(str(numA) + \" ** \" + str(numB) + \" = \" + str(exp))\n",
    "\n",
    "# División entera //\n",
    "divEnt = numA // numB\n",
    "print(str(numA) + \" // \" + str(numB) + \" = \" + str(divEnt))"
   ]
  },
  {
   "cell_type": "markdown",
   "id": "a762bcfa",
   "metadata": {},
   "source": [
    "# Operadores lógicos o booleanos"
   ]
  },
  {
   "cell_type": "code",
   "execution_count": 15,
   "id": "255ef33e",
   "metadata": {},
   "outputs": [
    {
     "name": "stdout",
     "output_type": "stream",
     "text": [
      "True or False es True\n",
      "True and False es False\n",
      "not True es False\n"
     ]
    }
   ],
   "source": [
    "a = True\n",
    "b = False\n",
    "\n",
    "# a or b\n",
    "opOR = a or b\n",
    "print(a, \"or\", b, \"es\", opOR)\n",
    "\n",
    "# a and b\n",
    "opAND = a and b\n",
    "print(str(a) + \" and \" + str(b) + \" es \" + str(opAND))\n",
    "\n",
    "# not a\n",
    "opNOT = not a\n",
    "print(\"not\", a, \"es\", opNOT)"
   ]
  },
  {
   "cell_type": "markdown",
   "id": "394c58b7",
   "metadata": {},
   "source": [
    "# Operadores de comparación"
   ]
  },
  {
   "cell_type": "code",
   "execution_count": 16,
   "id": "205d963d",
   "metadata": {},
   "outputs": [
    {
     "name": "stdout",
     "output_type": "stream",
     "text": [
      "23 > 15 es True\n",
      "23 >= 15 es True\n",
      "23 > 15 es False\n",
      "23 <= 15 es False\n",
      "23 == 15 es False\n",
      "23 != 15 es True\n"
     ]
    }
   ],
   "source": [
    "numA = 23\n",
    "numB = 15\n",
    "\n",
    "# Mayor que >\n",
    "mayor = numA > numB\n",
    "print(str(numA) + \" > \" + str(numB) + \" es \" + str(mayor))\n",
    "\n",
    "# Mayor o igual que >=\n",
    "mayorIgual = numA >= numB\n",
    "print(numA, \">=\", numB, \"es\", mayorIgual)\n",
    "\n",
    "# Menor que <\n",
    "menor = numA < numB\n",
    "print(str(numA) + \" > \" + str(numB) + \" es \" + str(menor))\n",
    "\n",
    "# Menor o igual que <=\n",
    "menorIgual = numA <= numB\n",
    "print(numA, \"<=\", numB, \"es\", menorIgual)\n",
    "\n",
    "# Igual ==\n",
    "igual = numA == numB\n",
    "print(str(numA) + \" == \" + str(numB) + \" es \" + str(igual))\n",
    "\n",
    "# Distinto !=\n",
    "distinto = numA != numB\n",
    "print(numA, \"!=\", numB, \"es\", mayorIgual)"
   ]
  },
  {
   "cell_type": "markdown",
   "id": "322e2966",
   "metadata": {},
   "source": [
    "# Operadores de asignación"
   ]
  },
  {
   "cell_type": "code",
   "execution_count": null,
   "id": "dd9e982d",
   "metadata": {},
   "outputs": [],
   "source": [
    "# Operador = (asigna un valor a la variable)\n",
    "x = 3097\n",
    "\n",
    "# Operador += (Suma a la variable x el valor del lado derecho)\n",
    "x += 3\n",
    "x = x + 3\n",
    "\n",
    "# Operador -= (Resta a la variable x el valor del lado derecho)\n",
    "x -= 2\n",
    "x = x – 2\n",
    "\n",
    "# Operador *= (Multiplica a la variable x el valor del lado derecho)\n",
    "x *= 1\n",
    "x = x * 1\n",
    "\n",
    "# Operador /= (Divide a la variable x el valor del lado derecho)\n",
    "x /= 4\n",
    "x = x / 4\n",
    "\n",
    "# Operador %= (Devuelve el resto de la división a la variable x el valor del lado derecho)\n",
    "x %= 3\n",
    "x = x % 3\n",
    "\n",
    "# Operador //= (Calcula la división entera a la variable x el valor del lado derecho)\n",
    "x //= 1\n",
    "x = x // 1\n",
    "\n",
    "# Operador **= (Calcula el exponente a la variable x el valor del lado derecho)\n",
    "x **= 2\n",
    "x = x ** 2"
   ]
  },
  {
   "cell_type": "markdown",
   "id": "33714e37",
   "metadata": {},
   "source": [
    "# Operadores de pertenencia"
   ]
  },
  {
   "cell_type": "code",
   "execution_count": 31,
   "id": "06c1046f",
   "metadata": {},
   "outputs": [
    {
     "name": "stdout",
     "output_type": "stream",
     "text": [
      "False True False True False\n",
      "True False True False True\n"
     ]
    }
   ],
   "source": [
    "# Los operadores de pertenencia se utilizan para comprobar si un valor o variable se encuentran en una \n",
    "# secuencia (lista, tupla, diccionario, conjunto o cadena)\n",
    "\n",
    "cadena = 'manzana'\n",
    "lista = [1, 3, 5, 7, 9]\n",
    "tupla = (2, 4, 6)\n",
    "diccionario = {'a': 1, 'b': 9, 'c': 9, 'd': 7}\n",
    "conjunto = set([3, 5, 2, 3, 4, 5])\n",
    "\n",
    "# Operador in regresa True si el valor o variable se encuentra en la secuencia; False en caso contrario\n",
    "\n",
    "inLista = 4 in lista\n",
    "inCadena = 'm' in cadena\n",
    "inTupla = 9 in tupla\n",
    "inDiccionario = 'd' in diccionario\n",
    "inConjunto = 6 in conjunto\n",
    "print(inLista, inCadena, inTupla, inDiccionario, inConjunto)\n",
    "\n",
    "# Operador not in regresa True si el valor o variable no se encuentra en la secuencia; False en caso contrario\n",
    "\n",
    "notInLista = 23 not in lista\n",
    "notInCadena = 'a' not in cadena\n",
    "notInTupla = 3 not in tupla\n",
    "notInDiccionario = 'd' not in diccionario\n",
    "notInConjunto = 1 not in conjunto\n",
    "print(notInLista, notInCadena, notInTupla, notInDiccionario, notInConjunto)"
   ]
  },
  {
   "cell_type": "markdown",
   "id": "d4d4e46d",
   "metadata": {},
   "source": [
    "# Sentencia if de control de flujo"
   ]
  },
  {
   "cell_type": "markdown",
   "id": "7b9e433f",
   "metadata": {},
   "source": [
    "La sentencia `if` se utiliza para ejecutar un bloque de código si y sólo si se cumple una determinada condición\n",
    "\n",
    "La estructura básica de la sentencia `if` es la siguiente:\n",
    "```python\n",
    "if condicion:\n",
    "    bloque de codigo\n",
    "```\n",
    "Es decir, solo si la `condicion` se evalúa a `True`, se ejecutarán las sentencias que forman parte de `bloque de código`. En caso de que se evalúe a `False` no se ejecutará ninguna sentencia perteneciente a `bloque de código`."
   ]
  },
  {
   "cell_type": "code",
   "execution_count": 32,
   "id": "9bb1b5e4",
   "metadata": {},
   "outputs": [
    {
     "name": "stdout",
     "output_type": "stream",
     "text": [
      "varA es mayor que 18\n"
     ]
    }
   ],
   "source": [
    "varA = 23\n",
    "\n",
    "if varA > 18:\n",
    "    print(\"varA es mayor que 18\")"
   ]
  },
  {
   "cell_type": "markdown",
   "id": "a99db054",
   "metadata": {},
   "source": [
    "La estructura de la sentencia `if ... else ...` es la siguiente:\n",
    "```python\n",
    "if condicion:\n",
    "    bloque de codigo (cuando la condicion se evalua a True)\n",
    "else:\n",
    "    bloque de codigo 2 (cuando la condicion se evalua a False)\n",
    "```"
   ]
  },
  {
   "cell_type": "code",
   "execution_count": 38,
   "id": "5fe1ebc8",
   "metadata": {},
   "outputs": [
    {
     "name": "stdout",
     "output_type": "stream",
     "text": [
      "9.5\n"
     ]
    }
   ],
   "source": [
    "resultado = 0\n",
    "varA = 38\n",
    "varB = 4\n",
    "if y != 0:\n",
    "    resultado = varA / varB\n",
    "else:\n",
    "    resultado = \"No se puede dividir \" + str(varA) + \" entre \" + varB.\n",
    "print(resultado)"
   ]
  },
  {
   "cell_type": "markdown",
   "id": "b7775a5d",
   "metadata": {},
   "source": [
    "La estructura de la sentencia `if ... elif ... else ...` es la siguiente:\n",
    "```python\n",
    "if cond1:\n",
    "    bloque cond1 (sentencias si la cond1 se evalua a True)\n",
    "elif cond2:\n",
    "    bloque cond2 (sentencias si cond1 es False pero cond2 es True)\n",
    "...\n",
    "else:\n",
    "    bloque else (sentencias si todas las condiciones se evaluan a False)\n",
    "```\n",
    "\n",
    "Es decir, se comprueba la condición `cond1`. Si se evalúa a `True`, se ejecuta el bloque `bloque cond1` y después el flujo continúa después del bloque if.\n",
    "\n",
    "Sin embargo, si `cond1` se evalúa a `False`, se comprueba la condición `cond2`. Si esta se evalúa a `True`, se ejecuta el bloque de sentencias `bloque cond2`. En caso contrario, pasaría a comprobar la condición del siguiente `elif` y así sucesivamente hasta que llegue al `else`, que se ejecuta si ninguna de las condiciones anteriores se evaluaron a `True`."
   ]
  },
  {
   "cell_type": "code",
   "execution_count": 42,
   "id": "fee4198d",
   "metadata": {},
   "outputs": [
    {
     "name": "stdout",
     "output_type": "stream",
     "text": [
      "varA es 4\n"
     ]
    }
   ],
   "source": [
    "varA = 4\n",
    "if varA < 4:\n",
    "    print(varA, \"es menor que 4\")\n",
    "elif varA > 4:\n",
    "    print(varA, \"es mayor que 4\")\n",
    "else:\n",
    "    print('varA es 4')"
   ]
  },
  {
   "cell_type": "markdown",
   "id": "fed9b2d9",
   "metadata": {},
   "source": [
    "# Bucle while en Python"
   ]
  },
  {
   "cell_type": "markdown",
   "id": "864bd825",
   "metadata": {},
   "source": [
    "La sentencia `while` se utiliza para ejecutar repetidamente un bloque de código mientras se cumpla una condición.\n",
    "\n",
    "La estructura básica de la sentencia `while` es la siguiente:\n",
    "```python\n",
    "while condicion:\n",
    "    bloque de codigo\n",
    "```\n",
    "\n",
    "Es decir, mientras `condicion` se evalúe a `True`, se ejecutarán las instrucciones y sentencias de bloque de código."
   ]
  },
  {
   "cell_type": "code",
   "execution_count": 2,
   "id": "b420d3c9",
   "metadata": {},
   "outputs": [
    {
     "name": "stdout",
     "output_type": "stream",
     "text": [
      "1\n",
      "2\n",
      "3\n",
      "4\n",
      "5\n",
      "6\n",
      "7\n",
      "8\n"
     ]
    }
   ],
   "source": [
    "num = 1\n",
    "while num <= 8:\n",
    "    print(num)\n",
    "    num += 1"
   ]
  },
  {
   "cell_type": "markdown",
   "id": "684ac7e0",
   "metadata": {},
   "source": [
    "Se puede alterar el flujo de ejecución del bucle while con las sentencias `break` y `continue`:\n",
    "\n",
    "* `break` se utiliza para finalizar y salir del bucle.\n",
    "* `continue` salta al siguiente paso de la iteración, ignorando todas las sentencias que le siguen y que forman parte del bucle."
   ]
  },
  {
   "cell_type": "code",
   "execution_count": 3,
   "id": "81cfc039",
   "metadata": {},
   "outputs": [
    {
     "name": "stdout",
     "output_type": "stream",
     "text": [
      "El indice del elemento 9 es 4\n"
     ]
    }
   ],
   "source": [
    "valores = [8, 2, 5, 1, 9, 3]\n",
    "encontrado = False\n",
    "indice = 0\n",
    "longitud = len(valores)\n",
    "while indice < longitud:\n",
    "    valor = valores[indice]\n",
    "    if valor == 9:\n",
    "        encontrado = True\n",
    "        break\n",
    "    else:\n",
    "        indice += 1\n",
    "        \n",
    "if encontrado:\n",
    "    print(\"El indice del elemento 9 es\", indice)\n",
    "else:\n",
    "    print(\"El elemento 9 no se encuentra en la lista de valores\")"
   ]
  },
  {
   "cell_type": "markdown",
   "id": "0355b972",
   "metadata": {},
   "source": [
    "Al bucle `while` se le puede agregar la sentencia `else`. El bloque de código del `else` se ejecutará siempre y cuando la condición de la sentencia `while` se evalúe a `False` y no se haya ejecutado una sentencia `break`."
   ]
  },
  {
   "cell_type": "code",
   "execution_count": 4,
   "id": "9d819a1e",
   "metadata": {},
   "outputs": [
    {
     "name": "stdout",
     "output_type": "stream",
     "text": [
      "El indice del elemento 9 es 4\n"
     ]
    }
   ],
   "source": [
    "valores = [8, 2, 5, 1, 9, 3]\n",
    "indice = 0\n",
    "longitud = len(valores)\n",
    "while indice < longitud:\n",
    "    valor = valores[indice]\n",
    "    if valor == 9:\n",
    "        print(\"El indice del elemento 9 es\", indice)\n",
    "        break\n",
    "    else:\n",
    "        indice += 1\n",
    "else:\n",
    "    print(\"El elemento 9 no se encuentra en la lista de valores\")"
   ]
  },
  {
   "cell_type": "markdown",
   "id": "f88db9b7",
   "metadata": {},
   "source": [
    "# Bucle for en Python"
   ]
  },
  {
   "cell_type": "markdown",
   "id": "800915da",
   "metadata": {},
   "source": [
    "El bucle `for` se utiliza para recorrer los elementos de un objeto iterable (lista, tupla, conjunto, diccionario, …) y ejecutar un bloque de código.\n",
    "\n",
    "La estructura básica de la sentencia `for` para recorrer un iterable:\n",
    "\n",
    "```python\n",
    "for elemento in <iterable>:\n",
    "    bloque de codigo\n",
    "```"
   ]
  },
  {
   "cell_type": "code",
   "execution_count": 5,
   "id": "5d81de5f",
   "metadata": {},
   "outputs": [
    {
     "name": "stdout",
     "output_type": "stream",
     "text": [
      "0\n",
      "2\n",
      "4\n",
      "6\n",
      "8\n",
      "10\n",
      "12\n",
      "14\n",
      "16\n",
      "18\n",
      "20\n"
     ]
    }
   ],
   "source": [
    "tablaDel2 = [0, 2, 4, 6, 8, 10, 12, 14, 16, 18, 20]\n",
    "for n in tablaDel2:\n",
    "    print(n)"
   ]
  },
  {
   "cell_type": "markdown",
   "id": "f90cac64",
   "metadata": {},
   "source": [
    "Se puede utilizar la clase `range` junto con el bucle `for`.\n",
    "\n",
    "La clase `range` se puede invocar de tres formas:\n",
    "\n",
    "* `range(max)`: Un iterable de números enteros consecutivos que empieza en 0 y acaba en `max - 1`\n",
    "* `range(min, max)`: Un iterable de números enteros consecutivos que empieza en `min` y acaba en `max - 1`\n",
    "* `range(min, max, step)`: Un iterable de números enteros consecutivos que empieza en `min` acaba en `max - 1` y los valores se van incrementando de `step` en `step`.\n",
    "\n",
    "Las estructuras de la sentencia `for` utilizando la clase `range` son las siguientes:\n",
    "```python\n",
    "for elemento in range(max):\n",
    "    bloque de codigo\n",
    "\n",
    "for elemento in range(min, max):\n",
    "    bloque de codigo\n",
    "    \n",
    "for elemento in range(min, max, step):\n",
    "    bloque de codigo\n",
    "```"
   ]
  },
  {
   "cell_type": "code",
   "execution_count": 6,
   "id": "80725961",
   "metadata": {},
   "outputs": [
    {
     "name": "stdout",
     "output_type": "stream",
     "text": [
      "0\n",
      "5\n",
      "10\n",
      "15\n",
      "20\n",
      "25\n",
      "30\n",
      "35\n",
      "40\n",
      "45\n"
     ]
    }
   ],
   "source": [
    "# Imprime los múltiplos de 5\n",
    "for num in range(0, 50, 5):\n",
    "    print(num)"
   ]
  },
  {
   "cell_type": "markdown",
   "id": "3cd21252",
   "metadata": {},
   "source": [
    "Se puede alterar el flujo de ejecución del bucle `for` con las sentencias `break` y `continue`. Al igual que en el bucle `while`."
   ]
  },
  {
   "cell_type": "code",
   "execution_count": 8,
   "id": "d3cacaf6",
   "metadata": {},
   "outputs": [
    {
     "name": "stdout",
     "output_type": "stream",
     "text": [
      "2\n",
      "9\n",
      "3\n",
      "7\n"
     ]
    }
   ],
   "source": [
    "# Imprime los números hasta que encuentra un elemento en la lista.\n",
    "numeros = [2, 9, 3, 7, 8, 1, 5, 4]\n",
    "for num in numeros:\n",
    "    if num == 8:\n",
    "        break\n",
    "    print(num)"
   ]
  },
  {
   "cell_type": "code",
   "execution_count": 9,
   "id": "804006e6",
   "metadata": {},
   "outputs": [
    {
     "name": "stdout",
     "output_type": "stream",
     "text": [
      "9\n",
      "3\n",
      "7\n",
      "1\n",
      "5\n"
     ]
    }
   ],
   "source": [
    "# Imprime los números impares de una lista\n",
    "numeros = [2, 9, 3, 7, 8, 1, 5, 4]\n",
    "for num in numeros:\n",
    "    if num % 2 == 0:\n",
    "        continue\n",
    "    print(num)"
   ]
  },
  {
   "cell_type": "markdown",
   "id": "c804eba4",
   "metadata": {},
   "source": [
    "# Funciones en Python"
   ]
  },
  {
   "cell_type": "markdown",
   "id": "b32b5192",
   "metadata": {},
   "source": [
    "La estructura de una función es la siguiente:\n",
    "\n",
    "```python\n",
    "def nombreFuncion(param1, param2, ...):\n",
    "    instrucciones\n",
    "    ...\n",
    "    return valor\n",
    "```\n",
    "\n",
    "* `def`: Palabra reservada para definir la función.\n",
    "* `nombreFuncion`: Nombre de la función -> Identificador.\n",
    "* `param1, param2, ...`: Lista de parámetros.\n",
    "* `instrucciones`: Cuerpo de la función -> Bloque de instrucciones.\n",
    "* `return`: Palabra reservada para devolver un valor/resultado."
   ]
  },
  {
   "cell_type": "code",
   "execution_count": 11,
   "id": "978d5ea1",
   "metadata": {},
   "outputs": [
    {
     "name": "stdout",
     "output_type": "stream",
     "text": [
      "32\n"
     ]
    }
   ],
   "source": [
    "# Función que multiplica dos números pasados como parámetros.\n",
    "def multiplicar(numA, numB):\n",
    "    mult = numA * numB\n",
    "    return mult\n",
    "\n",
    "print(multiplicar(4, 8))"
   ]
  },
  {
   "cell_type": "code",
   "execution_count": 16,
   "id": "dbb7e277",
   "metadata": {},
   "outputs": [
    {
     "name": "stdout",
     "output_type": "stream",
     "text": [
      "225\n"
     ]
    }
   ],
   "source": [
    "# Función que imprime el cuadrado del número si es impar.\n",
    "def num_impar(numero):\n",
    "    if numero % 2 == 0:\n",
    "        return\n",
    "    else:        \n",
    "        print(numero ** 2)\n",
    "\n",
    "num_impar(8)\n",
    "num_impar(15)"
   ]
  },
  {
   "cell_type": "code",
   "execution_count": 17,
   "id": "e022b220",
   "metadata": {},
   "outputs": [
    {
     "name": "stdout",
     "output_type": "stream",
     "text": [
      "False\n",
      "True\n"
     ]
    }
   ],
   "source": [
    "# Función que regresa True si el número que se le pasa como parámetro es par; False en otro caso.\n",
    "def es_par(numero):\n",
    "    if numero % 2 == 0:\n",
    "        return True\n",
    "    else:\n",
    "        return False\n",
    "\n",
    "print(es_par(45))\n",
    "print(es_par(26))"
   ]
  },
  {
   "cell_type": "markdown",
   "id": "108f88e8",
   "metadata": {},
   "source": [
    "# Comentarios"
   ]
  },
  {
   "cell_type": "code",
   "execution_count": 6,
   "id": "020382d4",
   "metadata": {},
   "outputs": [],
   "source": [
    "# Comentarios de una línea"
   ]
  },
  {
   "cell_type": "code",
   "execution_count": 11,
   "id": "5ca7a630",
   "metadata": {},
   "outputs": [
    {
     "data": {
      "text/plain": [
       "'\\n    Comentarios \\n    de \\n    varias \\n    líneas\\n'"
      ]
     },
     "execution_count": 11,
     "metadata": {},
     "output_type": "execute_result"
    }
   ],
   "source": [
    "\"\"\"\n",
    "    Comentarios \n",
    "    de \n",
    "    varias \n",
    "    líneas\n",
    "\"\"\""
   ]
  }
 ],
 "metadata": {
  "celltoolbar": "Raw Cell Format",
  "kernelspec": {
   "display_name": "Python 3 (ipykernel)",
   "language": "python",
   "name": "python3"
  },
  "language_info": {
   "codemirror_mode": {
    "name": "ipython",
    "version": 3
   },
   "file_extension": ".py",
   "mimetype": "text/x-python",
   "name": "python",
   "nbconvert_exporter": "python",
   "pygments_lexer": "ipython3",
   "version": "3.10.6"
  }
 },
 "nbformat": 4,
 "nbformat_minor": 5
}
