{
 "cells": [
  {
   "cell_type": "markdown",
   "id": "71b5d988",
   "metadata": {},
   "source": [
    "## Algoritmo de la división\n",
    "\n",
    "Para obtener los valores $x$ y $r$ que resuelvan la ecuación:\n",
    "\n",
    "$$a = b \\cdot x + r$$\n",
    "\n",
    "Dados $a,b$ naturales y sujeto a que $0 \\leq r < b$, se han propuesto varios algoritmos que integran recursividad.\n",
    "\n",
    "Uno de ellos es el que aquí se presenta y que consiste en:\n",
    "\n",
    "1. Se inicializa $x= 0$ y $r = a$.\n",
    "2. Mientras $r$ sea mayor o igual a $b$ se actualza:\n",
    "$$\n",
    "    x \\leftarrow x + 1 \\\\\n",
    "    r \\leftarrow r-b\n",
    "$$\n",
    "\n",
    "Este algoritmo permite obtener los valores precisos de $x$ y $r$ que corresponden al divisor y al resto de una división entera. Claramente si $r = 0$, entonces $b$ divide a $a$. "
   ]
  },
  {
   "cell_type": "code",
   "execution_count": 1,
   "id": "2755a5e2",
   "metadata": {},
   "outputs": [],
   "source": [
    "def division(a,b):\n",
    "    \"\"\"Algoritmo de división\"\"\"\n",
    "    if b <= 0:\n",
    "        #Si b es 0 o negativo regresa un error\n",
    "        return 'b debe ser mayor a 0'\n",
    "    \n",
    "    #Inicializa x y a\n",
    "    x = 0\n",
    "    r = a\n",
    "    #Mientras la condición sea verdadera\n",
    "    while r >= b:\n",
    "        #Actualiza x y a\n",
    "        x = x+1\n",
    "        r = r-b\n",
    "    \n",
    "    return x,r     "
   ]
  },
  {
   "cell_type": "markdown",
   "id": "b246749c",
   "metadata": {},
   "source": [
    "Una vez definido el algoritmo, podemos probar algunos casos."
   ]
  },
  {
   "cell_type": "code",
   "execution_count": 2,
   "id": "4cbb0e15",
   "metadata": {},
   "outputs": [
    {
     "name": "stdout",
     "output_type": "stream",
     "text": [
      "33 1\n",
      "True\n"
     ]
    }
   ],
   "source": [
    "a = 100\n",
    "b = 3\n",
    "x,r = division(a,b)\n",
    "\n",
    "print(x,r)\n",
    "print(a == b*x + r and 0 <= r < b)"
   ]
  },
  {
   "cell_type": "code",
   "execution_count": null,
   "id": "accc4677",
   "metadata": {},
   "outputs": [],
   "source": []
  }
 ],
 "metadata": {
  "kernelspec": {
   "display_name": "Python 3",
   "language": "python",
   "name": "python3"
  },
  "language_info": {
   "codemirror_mode": {
    "name": "ipython",
    "version": 3
   },
   "file_extension": ".py",
   "mimetype": "text/x-python",
   "name": "python",
   "nbconvert_exporter": "python",
   "pygments_lexer": "ipython3",
   "version": "3.8.8"
  }
 },
 "nbformat": 4,
 "nbformat_minor": 5
}
