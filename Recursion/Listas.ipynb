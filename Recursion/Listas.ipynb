{
 "cells": [
  {
   "cell_type": "code",
   "execution_count": 15,
   "id": "64197167",
   "metadata": {},
   "outputs": [],
   "source": [
    "class Lista(object):\n",
    "    \"\"\"\n",
    "    Creación de una lista.\n",
    "    \"\"\"\n",
    "    def __init__(self):\n",
    "        self.lista = [] #Lista nil\n",
    "  \n",
    "    def __str__(self):\n",
    "        return ' '.join([str(q) for q in self.lista])\n",
    "  \n",
    "    def isEmpty(self):\n",
    "        \"\"\"\n",
    "        Returns\n",
    "        -------\n",
    "        empty : bool\n",
    "            Devuelve el valor True si la lista está vacía\n",
    "        \"\"\"\n",
    "        return self.lista == []\n",
    "  \n",
    "    def push(self, element):\n",
    "        \"\"\"\n",
    "        Arguments\n",
    "        ---------\n",
    "        element : \n",
    "            El elemento que se va agregar a la lista\n",
    "        \"\"\"\n",
    "        \n",
    "        self.lista = self.lista + [element]\n",
    "  \n",
    "    def pop(self):\n",
    "        \"\"\"\n",
    "        Elimina el elemento con más valor según un peso f\n",
    "        y regresa el elemento correspondiente a este valor.\n",
    "        \"\"\"\n",
    "        #Regresa el primer elemento que llegó\n",
    "        first_element = self.lista[-1]\n",
    "        #Borra este elemento de la cola\n",
    "        del self.lista[-1]\n",
    "    \n",
    "        return first_element"
   ]
  },
  {
   "cell_type": "code",
   "execution_count": 16,
   "id": "374886a6",
   "metadata": {},
   "outputs": [
    {
     "name": "stdout",
     "output_type": "stream",
     "text": [
      "\n"
     ]
    }
   ],
   "source": [
    "my_list = Lista()\n",
    "print(my_list)"
   ]
  },
  {
   "cell_type": "code",
   "execution_count": 17,
   "id": "fc28a304",
   "metadata": {},
   "outputs": [
    {
     "name": "stdout",
     "output_type": "stream",
     "text": [
      "1 2 3 4 5 1 2 3 4 5\n"
     ]
    }
   ],
   "source": [
    "my_list.push(1)\n",
    "my_list.push(2)\n",
    "my_list.push(3)\n",
    "my_list.push(4)\n",
    "my_list.push(5)\n",
    "my_list.push(1)\n",
    "my_list.push(2)\n",
    "my_list.push(3)\n",
    "my_list.push(4)\n",
    "my_list.push(5)\n",
    "print(my_list)"
   ]
  },
  {
   "cell_type": "code",
   "execution_count": 18,
   "id": "f2ce6b73",
   "metadata": {},
   "outputs": [
    {
     "data": {
      "text/plain": [
       "10"
      ]
     },
     "execution_count": 18,
     "metadata": {},
     "output_type": "execute_result"
    }
   ],
   "source": [
    "def long(lista):\n",
    "    \"\"\"Función de longitud de lista\"\"\"\n",
    "    #base\n",
    "    l = 0\n",
    "    for element in lista.lista:\n",
    "        #inducción\n",
    "        l = 1 + l\n",
    "        \n",
    "    return l\n",
    "\n",
    "long(my_list)"
   ]
  },
  {
   "cell_type": "code",
   "execution_count": 19,
   "id": "54293bb1",
   "metadata": {},
   "outputs": [
    {
     "data": {
      "text/plain": [
       "30"
      ]
     },
     "execution_count": 19,
     "metadata": {},
     "output_type": "execute_result"
    }
   ],
   "source": [
    "def suma(lista):\n",
    "    \"\"\"Función de suma\"\"\"\n",
    "    #base\n",
    "    total_sum = 0\n",
    "    for element in lista.lista:\n",
    "        #inducción\n",
    "        total_sum = element + total_sum\n",
    "        \n",
    "    return total_sum\n",
    "\n",
    "suma(my_list)"
   ]
  },
  {
   "cell_type": "code",
   "execution_count": 20,
   "id": "e21e771d",
   "metadata": {},
   "outputs": [
    {
     "data": {
      "text/plain": [
       "14400"
      ]
     },
     "execution_count": 20,
     "metadata": {},
     "output_type": "execute_result"
    }
   ],
   "source": [
    "def prod(lista):\n",
    "    \"\"\"Función de producto de lista\"\"\"\n",
    "    #base\n",
    "    total_prod = 1\n",
    "    for element in lista.lista:\n",
    "        #inducción\n",
    "        total_prod = element*total_prod\n",
    "        \n",
    "    return total_prod\n",
    "\n",
    "prod(my_list)"
   ]
  },
  {
   "cell_type": "code",
   "execution_count": 21,
   "id": "29908092",
   "metadata": {},
   "outputs": [],
   "source": [
    "def concat(l1, l2):\n",
    "    \"\"\"Función de concatenación\"\"\"\n",
    "    #base\n",
    "    concat_list = l1\n",
    "    for element in l2.lista:\n",
    "        #inducción\n",
    "        concat_list.push(element)\n",
    "        \n",
    "    return concat_list"
   ]
  },
  {
   "cell_type": "code",
   "execution_count": 22,
   "id": "6eb353ed",
   "metadata": {},
   "outputs": [
    {
     "name": "stdout",
     "output_type": "stream",
     "text": [
      "1 2 63 67 13 100\n"
     ]
    }
   ],
   "source": [
    "second_list = Lista()\n",
    "second_list.lista = [1,2,63,67,13,100]\n",
    "print(second_list)"
   ]
  },
  {
   "cell_type": "code",
   "execution_count": 23,
   "id": "e62fc29a",
   "metadata": {},
   "outputs": [
    {
     "name": "stdout",
     "output_type": "stream",
     "text": [
      "1 2 3 4 5 1 2 3 4 5 1 2 63 67 13 100\n"
     ]
    }
   ],
   "source": [
    "print(concat(my_list, second_list))"
   ]
  },
  {
   "cell_type": "markdown",
   "id": "e4d22699",
   "metadata": {},
   "source": [
    "## Algoritmo de intersección de conjuntos"
   ]
  },
  {
   "cell_type": "code",
   "execution_count": 10,
   "id": "df04078d",
   "metadata": {},
   "outputs": [],
   "source": [
    "def intersect(a,b):\n",
    "    \"\"\"Función de intersección entre dos conjuntos.\"\"\"\n",
    "    #Guarda los resultados\n",
    "    result_list = Lista()\n",
    "    #Inicia los índices\n",
    "    i,j = 0,0\n",
    "    #Recorre los conjuntos\n",
    "    while i < long(a) and j < long(b):\n",
    "        if a.lista[i] == b.lista[j]:\n",
    "            #Si contiene los mismos elementos\n",
    "            #agrega a la lista de intersecciones\n",
    "            result_list.push(a.lista[i])\n",
    "            i += 1\n",
    "            j += 1\n",
    "            \n",
    "        elif a.lista[i] < b.lista[j]:\n",
    "            #Avanza en la primera lista\n",
    "            i += 1\n",
    "            \n",
    "        else:\n",
    "            #Avanza en la segunda lsita\n",
    "            j += 1\n",
    "            \n",
    "    return result_list"
   ]
  },
  {
   "cell_type": "code",
   "execution_count": 14,
   "id": "9ad5bedc",
   "metadata": {},
   "outputs": [
    {
     "name": "stdout",
     "output_type": "stream",
     "text": [
      "1 2 3 4 5\n",
      "0 2 4 6 8\n",
      "2 4\n"
     ]
    }
   ],
   "source": [
    "list1 = Lista()\n",
    "list1.push(1)\n",
    "list1.push(2)\n",
    "list1.push(3)\n",
    "list1.push(4)\n",
    "list1.push(5)\n",
    "\n",
    "list2 = Lista()\n",
    "list2.push(0)\n",
    "list2.push(2)\n",
    "list2.push(4)\n",
    "list2.push(6)\n",
    "list2.push(8)\n",
    "\n",
    "print(list1)\n",
    "print(list2)\n",
    "print(intersect(list1, list2))"
   ]
  },
  {
   "cell_type": "code",
   "execution_count": null,
   "id": "a373cb51",
   "metadata": {},
   "outputs": [],
   "source": []
  }
 ],
 "metadata": {
  "kernelspec": {
   "display_name": "Python 3",
   "language": "python",
   "name": "python3"
  },
  "language_info": {
   "codemirror_mode": {
    "name": "ipython",
    "version": 3
   },
   "file_extension": ".py",
   "mimetype": "text/x-python",
   "name": "python",
   "nbconvert_exporter": "python",
   "pygments_lexer": "ipython3",
   "version": "3.8.8"
  }
 },
 "nbformat": 4,
 "nbformat_minor": 5
}
